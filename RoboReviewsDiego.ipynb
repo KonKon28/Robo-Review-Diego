{
 "cells": [
  {
   "cell_type": "markdown",
   "metadata": {},
   "source": [
    "# Le Robo Reviews Start"
   ]
  },
  {
   "cell_type": "code",
   "execution_count": 1,
   "metadata": {},
   "outputs": [],
   "source": [
    "import pandas as pd\n",
    "from transformers import BertForSequenceClassification, BertTokenizer\n",
    "from sklearn.cluster import KMeans\n",
    "from transformers import GPT2LMHeadModel, GPT2Tokenizer"
   ]
  },
  {
   "cell_type": "code",
   "execution_count": 2,
   "metadata": {},
   "outputs": [
    {
     "name": "stderr",
     "output_type": "stream",
     "text": [
      "C:\\Users\\diego\\AppData\\Local\\Temp\\ipykernel_7848\\268574199.py:6: DtypeWarning: Columns (1,10) have mixed types. Specify dtype option on import or set low_memory=False.\n",
      "  df3 = pd.read_csv('1429_1.csv')\n"
     ]
    }
   ],
   "source": [
    "import pandas as pd\n",
    "\n",
    "# Load the three CSV files into DataFrames\n",
    "df1 = pd.read_csv('Datafiniti_Amazon_Consumer_Reviews_of_Amazon_Products_May19.csv')\n",
    "df2 = pd.read_csv('Datafiniti_Amazon_Consumer_Reviews_of_Amazon_Products.csv')\n",
    "df3 = pd.read_csv('1429_1.csv')\n",
    "\n",
    "# Concatenate the DataFrames\n",
    "combined_df = pd.concat([df1, df2, df3], ignore_index=True)\n",
    "\n",
    "# Save the combined DataFrame to a new CSV file\n",
    "combined_df.to_csv('combined_amazon_reviews.csv', index=False)\n"
   ]
  },
  {
   "cell_type": "code",
   "execution_count": 3,
   "metadata": {},
   "outputs": [
    {
     "name": "stdout",
     "output_type": "stream",
     "text": [
      "Index(['id', 'dateAdded', 'dateUpdated', 'name', 'asins', 'brand',\n",
      "       'categories', 'primaryCategories', 'imageURLs', 'keys', 'manufacturer',\n",
      "       'manufacturerNumber', 'reviews.date', 'reviews.dateSeen',\n",
      "       'reviews.didPurchase', 'reviews.doRecommend', 'reviews.id',\n",
      "       'reviews.numHelpful', 'reviews.rating', 'reviews.sourceURLs',\n",
      "       'reviews.text', 'reviews.title', 'reviews.username', 'sourceURLs',\n",
      "       'reviews.dateAdded', 'reviews.userCity', 'reviews.userProvince'],\n",
      "      dtype='object')\n"
     ]
    },
    {
     "name": "stderr",
     "output_type": "stream",
     "text": [
      "C:\\Users\\diego\\AppData\\Local\\Temp\\ipykernel_7848\\699921908.py:3: DtypeWarning: Columns (1,2,3,7,8,11,14,23) have mixed types. Specify dtype option on import or set low_memory=False.\n",
      "  df = pd.read_csv('combined_amazon_reviews.csv')\n"
     ]
    }
   ],
   "source": [
    "import pandas as pd\n",
    "\n",
    "df = pd.read_csv('combined_amazon_reviews.csv')\n",
    "print(df.columns)\n"
   ]
  },
  {
   "cell_type": "code",
   "execution_count": 4,
   "metadata": {},
   "outputs": [
    {
     "name": "stdout",
     "output_type": "stream",
     "text": [
      "                     id             dateAdded           dateUpdated  \\\n",
      "0  AVpgNzjwLJeJML43Kpxn  2015-10-30T08:59:32Z  2019-04-25T09:08:16Z   \n",
      "1  AVpgNzjwLJeJML43Kpxn  2015-10-30T08:59:32Z  2019-04-25T09:08:16Z   \n",
      "2  AVpgNzjwLJeJML43Kpxn  2015-10-30T08:59:32Z  2019-04-25T09:08:16Z   \n",
      "3  AVpgNzjwLJeJML43Kpxn  2015-10-30T08:59:32Z  2019-04-25T09:08:16Z   \n",
      "4  AVpgNzjwLJeJML43Kpxn  2015-10-30T08:59:32Z  2019-04-25T09:08:16Z   \n",
      "\n",
      "                                                name                  asins  \\\n",
      "0  AmazonBasics AAA Performance Alkaline Batterie...  B00QWO9P0O,B00LH3DMUO   \n",
      "1  AmazonBasics AAA Performance Alkaline Batterie...  B00QWO9P0O,B00LH3DMUO   \n",
      "2  AmazonBasics AAA Performance Alkaline Batterie...  B00QWO9P0O,B00LH3DMUO   \n",
      "3  AmazonBasics AAA Performance Alkaline Batterie...  B00QWO9P0O,B00LH3DMUO   \n",
      "4  AmazonBasics AAA Performance Alkaline Batterie...  B00QWO9P0O,B00LH3DMUO   \n",
      "\n",
      "          brand                                         categories  \\\n",
      "0  Amazonbasics  AA,AAA,Health,Electronics,Health & Household,C...   \n",
      "1  Amazonbasics  AA,AAA,Health,Electronics,Health & Household,C...   \n",
      "2  Amazonbasics  AA,AAA,Health,Electronics,Health & Household,C...   \n",
      "3  Amazonbasics  AA,AAA,Health,Electronics,Health & Household,C...   \n",
      "4  Amazonbasics  AA,AAA,Health,Electronics,Health & Household,C...   \n",
      "\n",
      "  primaryCategories                                          imageURLs  \\\n",
      "0   Health & Beauty  https://images-na.ssl-images-amazon.com/images...   \n",
      "1   Health & Beauty  https://images-na.ssl-images-amazon.com/images...   \n",
      "2   Health & Beauty  https://images-na.ssl-images-amazon.com/images...   \n",
      "3   Health & Beauty  https://images-na.ssl-images-amazon.com/images...   \n",
      "4   Health & Beauty  https://images-na.ssl-images-amazon.com/images...   \n",
      "\n",
      "                                                keys  ... reviews.numHelpful  \\\n",
      "0  amazonbasics/hl002619,amazonbasicsaaaperforman...  ...                NaN   \n",
      "1  amazonbasics/hl002619,amazonbasicsaaaperforman...  ...                NaN   \n",
      "2  amazonbasics/hl002619,amazonbasicsaaaperforman...  ...                NaN   \n",
      "3  amazonbasics/hl002619,amazonbasicsaaaperforman...  ...                NaN   \n",
      "4  amazonbasics/hl002619,amazonbasicsaaaperforman...  ...                NaN   \n",
      "\n",
      "  reviews.rating                                 reviews.sourceURLs  \\\n",
      "0            3.0  https://www.amazon.com/product-reviews/B00QWO9...   \n",
      "1            4.0  https://www.amazon.com/product-reviews/B00QWO9...   \n",
      "2            5.0  https://www.amazon.com/product-reviews/B00QWO9...   \n",
      "3            5.0  https://www.amazon.com/product-reviews/B00QWO9...   \n",
      "4            5.0  https://www.amazon.com/product-reviews/B00QWO9...   \n",
      "\n",
      "                                        reviews.text  \\\n",
      "0  I order 3 of them and one of the item is bad q...   \n",
      "1  Bulk is always the less expensive way to go fo...   \n",
      "2  Well they are not Duracell but for the price i...   \n",
      "3  Seem to work as well as name brand batteries a...   \n",
      "4  These batteries are very long lasting the pric...   \n",
      "\n",
      "                                       reviews.title  reviews.username  \\\n",
      "0  ... 3 of them and one of the item is bad quali...        Byger yang   \n",
      "1  ... always the less expensive way to go for pr...              ByMG   \n",
      "2  ... are not Duracell but for the price i am ha...  BySharon Lambert   \n",
      "3  ... as well as name brand batteries at a much ...     Bymark sexson   \n",
      "4  ... batteries are very long lasting the price ...           Bylinda   \n",
      "\n",
      "                                          sourceURLs  reviews.dateAdded  \\\n",
      "0  https://www.barcodable.com/upc/841710106442,ht...                NaN   \n",
      "1  https://www.barcodable.com/upc/841710106442,ht...                NaN   \n",
      "2  https://www.barcodable.com/upc/841710106442,ht...                NaN   \n",
      "3  https://www.barcodable.com/upc/841710106442,ht...                NaN   \n",
      "4  https://www.barcodable.com/upc/841710106442,ht...                NaN   \n",
      "\n",
      "   reviews.userCity reviews.userProvince  \n",
      "0               NaN                  NaN  \n",
      "1               NaN                  NaN  \n",
      "2               NaN                  NaN  \n",
      "3               NaN                  NaN  \n",
      "4               NaN                  NaN  \n",
      "\n",
      "[5 rows x 27 columns]\n"
     ]
    }
   ],
   "source": [
    "# Display the first 5 rows of the combined dataset\n",
    "print(combined_df.head())\n"
   ]
  },
  {
   "cell_type": "code",
   "execution_count": 5,
   "metadata": {},
   "outputs": [
    {
     "name": "stdout",
     "output_type": "stream",
     "text": [
      "Dataset shape: (67992, 27)\n"
     ]
    }
   ],
   "source": [
    "# Check the number of rows and columns\n",
    "print(f\"Dataset shape: {combined_df.shape}\")\n"
   ]
  },
  {
   "cell_type": "code",
   "execution_count": 6,
   "metadata": {},
   "outputs": [
    {
     "name": "stdout",
     "output_type": "stream",
     "text": [
      "Missing values in each column:\n",
      " id                          0\n",
      "dateAdded               34660\n",
      "dateUpdated             34660\n",
      "name                     6760\n",
      "asins                       2\n",
      "brand                       0\n",
      "categories                  0\n",
      "primaryCategories       34660\n",
      "imageURLs               34660\n",
      "keys                        0\n",
      "manufacturer                0\n",
      "manufacturerNumber      34660\n",
      "reviews.date               39\n",
      "reviews.dateSeen            0\n",
      "reviews.didPurchase     67982\n",
      "reviews.doRecommend     12840\n",
      "reviews.id              67921\n",
      "reviews.numHelpful      12746\n",
      "reviews.rating             33\n",
      "reviews.sourceURLs          0\n",
      "reviews.text                1\n",
      "reviews.title              19\n",
      "reviews.username           13\n",
      "sourceURLs              34660\n",
      "reviews.dateAdded       42901\n",
      "reviews.userCity        67992\n",
      "reviews.userProvince    67992\n",
      "dtype: int64\n"
     ]
    }
   ],
   "source": [
    "# Check for missing values in each column\n",
    "missing_values = combined_df.isnull().sum()\n",
    "print(\"Missing values in each column:\\n\", missing_values)"
   ]
  },
  {
   "cell_type": "code",
   "execution_count": 7,
   "metadata": {},
   "outputs": [
    {
     "name": "stdout",
     "output_type": "stream",
     "text": [
      "<class 'pandas.core.frame.DataFrame'>\n",
      "RangeIndex: 67992 entries, 0 to 67991\n",
      "Data columns (total 27 columns):\n",
      " #   Column                Non-Null Count  Dtype  \n",
      "---  ------                --------------  -----  \n",
      " 0   id                    67992 non-null  object \n",
      " 1   dateAdded             33332 non-null  object \n",
      " 2   dateUpdated           33332 non-null  object \n",
      " 3   name                  61232 non-null  object \n",
      " 4   asins                 67990 non-null  object \n",
      " 5   brand                 67992 non-null  object \n",
      " 6   categories            67992 non-null  object \n",
      " 7   primaryCategories     33332 non-null  object \n",
      " 8   imageURLs             33332 non-null  object \n",
      " 9   keys                  67992 non-null  object \n",
      " 10  manufacturer          67992 non-null  object \n",
      " 11  manufacturerNumber    33332 non-null  object \n",
      " 12  reviews.date          67953 non-null  object \n",
      " 13  reviews.dateSeen      67992 non-null  object \n",
      " 14  reviews.didPurchase   10 non-null     object \n",
      " 15  reviews.doRecommend   55152 non-null  object \n",
      " 16  reviews.id            71 non-null     float64\n",
      " 17  reviews.numHelpful    55246 non-null  float64\n",
      " 18  reviews.rating        67959 non-null  float64\n",
      " 19  reviews.sourceURLs    67992 non-null  object \n",
      " 20  reviews.text          67991 non-null  object \n",
      " 21  reviews.title         67973 non-null  object \n",
      " 22  reviews.username      67979 non-null  object \n",
      " 23  sourceURLs            33332 non-null  object \n",
      " 24  reviews.dateAdded     25091 non-null  object \n",
      " 25  reviews.userCity      0 non-null      float64\n",
      " 26  reviews.userProvince  0 non-null      float64\n",
      "dtypes: float64(5), object(22)\n",
      "memory usage: 14.0+ MB\n",
      "None\n"
     ]
    }
   ],
   "source": [
    "# Get information about the dataset, including data types\n",
    "print(combined_df.info())\n"
   ]
  },
  {
   "cell_type": "code",
   "execution_count": 8,
   "metadata": {},
   "outputs": [],
   "source": [
    "# Check unique values in the product category (if available)\n",
    "if 'product_category' in combined_df.columns:\n",
    "    unique_categories = combined_df['product_category'].unique()\n",
    "    print(f\"Unique product categories: {len(unique_categories)}\")\n",
    "    print(unique_categories)\n",
    "\n",
    "# Check unique values in the rating column (if available)\n",
    "if 'star_rating' in combined_df.columns:\n",
    "    rating_distribution = combined_df['star_rating'].value_counts()\n",
    "    print(f\"Rating distribution:\\n{rating_distribution}\")\n"
   ]
  },
  {
   "cell_type": "code",
   "execution_count": 9,
   "metadata": {},
   "outputs": [],
   "source": [
    "def preprocess_data(data_file):\n",
    "    df = pd.read_csv(data_file)\n",
    "    # Inspect the column names and update the code accordingly\n",
    "    print(df.columns)\n",
    "    \n",
    "    # Clean and preprocess the review text\n",
    "    df['review_text'] = df['CORRECT_COLUMN_NAME'].apply(clean_text)\n",
    "    \n",
    "    # Split the dataset into train, validation, and test sets\n",
    "    train_df, val_df, test_df = split_data(df)\n",
    "    return train_df, val_df, test_df\n"
   ]
  }
 ],
 "metadata": {
  "kernelspec": {
   "display_name": "Python 3",
   "language": "python",
   "name": "python3"
  },
  "language_info": {
   "codemirror_mode": {
    "name": "ipython",
    "version": 3
   },
   "file_extension": ".py",
   "mimetype": "text/x-python",
   "name": "python",
   "nbconvert_exporter": "python",
   "pygments_lexer": "ipython3",
   "version": "3.12.7"
  }
 },
 "nbformat": 4,
 "nbformat_minor": 2
}
