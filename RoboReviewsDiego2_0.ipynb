{
 "cells": [
  {
   "cell_type": "code",
   "execution_count": null,
   "metadata": {},
   "outputs": [],
   "source": [
    "#pip install numpy pandas scikit-learn tensorflow transformers nltk spacy flask\n",
    "\n"
   ]
  },
  {
   "cell_type": "code",
   "execution_count": null,
   "metadata": {},
   "outputs": [],
   "source": [
    "#pip install transformers"
   ]
  },
  {
   "cell_type": "code",
   "execution_count": 1,
   "metadata": {},
   "outputs": [
    {
     "name": "stdout",
     "output_type": "stream",
     "text": [
      "                     id             dateAdded           dateUpdated  \\\n",
      "0  AVpgNzjwLJeJML43Kpxn  2015-10-30T08:59:32Z  2019-04-25T09:08:16Z   \n",
      "1  AVpgNzjwLJeJML43Kpxn  2015-10-30T08:59:32Z  2019-04-25T09:08:16Z   \n",
      "2  AVpgNzjwLJeJML43Kpxn  2015-10-30T08:59:32Z  2019-04-25T09:08:16Z   \n",
      "3  AVpgNzjwLJeJML43Kpxn  2015-10-30T08:59:32Z  2019-04-25T09:08:16Z   \n",
      "4  AVpgNzjwLJeJML43Kpxn  2015-10-30T08:59:32Z  2019-04-25T09:08:16Z   \n",
      "\n",
      "                                                name                  asins  \\\n",
      "0  AmazonBasics AAA Performance Alkaline Batterie...  B00QWO9P0O,B00LH3DMUO   \n",
      "1  AmazonBasics AAA Performance Alkaline Batterie...  B00QWO9P0O,B00LH3DMUO   \n",
      "2  AmazonBasics AAA Performance Alkaline Batterie...  B00QWO9P0O,B00LH3DMUO   \n",
      "3  AmazonBasics AAA Performance Alkaline Batterie...  B00QWO9P0O,B00LH3DMUO   \n",
      "4  AmazonBasics AAA Performance Alkaline Batterie...  B00QWO9P0O,B00LH3DMUO   \n",
      "\n",
      "          brand                                         categories  \\\n",
      "0  Amazonbasics  AA,AAA,Health,Electronics,Health & Household,C...   \n",
      "1  Amazonbasics  AA,AAA,Health,Electronics,Health & Household,C...   \n",
      "2  Amazonbasics  AA,AAA,Health,Electronics,Health & Household,C...   \n",
      "3  Amazonbasics  AA,AAA,Health,Electronics,Health & Household,C...   \n",
      "4  Amazonbasics  AA,AAA,Health,Electronics,Health & Household,C...   \n",
      "\n",
      "  primaryCategories                                          imageURLs  \\\n",
      "0   Health & Beauty  https://images-na.ssl-images-amazon.com/images...   \n",
      "1   Health & Beauty  https://images-na.ssl-images-amazon.com/images...   \n",
      "2   Health & Beauty  https://images-na.ssl-images-amazon.com/images...   \n",
      "3   Health & Beauty  https://images-na.ssl-images-amazon.com/images...   \n",
      "4   Health & Beauty  https://images-na.ssl-images-amazon.com/images...   \n",
      "\n",
      "                                                keys  ... reviews.numHelpful  \\\n",
      "0  amazonbasics/hl002619,amazonbasicsaaaperforman...  ...                NaN   \n",
      "1  amazonbasics/hl002619,amazonbasicsaaaperforman...  ...                NaN   \n",
      "2  amazonbasics/hl002619,amazonbasicsaaaperforman...  ...                NaN   \n",
      "3  amazonbasics/hl002619,amazonbasicsaaaperforman...  ...                NaN   \n",
      "4  amazonbasics/hl002619,amazonbasicsaaaperforman...  ...                NaN   \n",
      "\n",
      "  reviews.rating                                 reviews.sourceURLs  \\\n",
      "0            3.0  https://www.amazon.com/product-reviews/B00QWO9...   \n",
      "1            4.0  https://www.amazon.com/product-reviews/B00QWO9...   \n",
      "2            5.0  https://www.amazon.com/product-reviews/B00QWO9...   \n",
      "3            5.0  https://www.amazon.com/product-reviews/B00QWO9...   \n",
      "4            5.0  https://www.amazon.com/product-reviews/B00QWO9...   \n",
      "\n",
      "                                        reviews.text  \\\n",
      "0  I order 3 of them and one of the item is bad q...   \n",
      "1  Bulk is always the less expensive way to go fo...   \n",
      "2  Well they are not Duracell but for the price i...   \n",
      "3  Seem to work as well as name brand batteries a...   \n",
      "4  These batteries are very long lasting the pric...   \n",
      "\n",
      "                                       reviews.title  reviews.username  \\\n",
      "0  ... 3 of them and one of the item is bad quali...        Byger yang   \n",
      "1  ... always the less expensive way to go for pr...              ByMG   \n",
      "2  ... are not Duracell but for the price i am ha...  BySharon Lambert   \n",
      "3  ... as well as name brand batteries at a much ...     Bymark sexson   \n",
      "4  ... batteries are very long lasting the price ...           Bylinda   \n",
      "\n",
      "                                          sourceURLs  reviews.dateAdded  \\\n",
      "0  https://www.barcodable.com/upc/841710106442,ht...                NaN   \n",
      "1  https://www.barcodable.com/upc/841710106442,ht...                NaN   \n",
      "2  https://www.barcodable.com/upc/841710106442,ht...                NaN   \n",
      "3  https://www.barcodable.com/upc/841710106442,ht...                NaN   \n",
      "4  https://www.barcodable.com/upc/841710106442,ht...                NaN   \n",
      "\n",
      "   reviews.userCity reviews.userProvince  \n",
      "0               NaN                  NaN  \n",
      "1               NaN                  NaN  \n",
      "2               NaN                  NaN  \n",
      "3               NaN                  NaN  \n",
      "4               NaN                  NaN  \n",
      "\n",
      "[5 rows x 27 columns]\n",
      "id                          0\n",
      "dateAdded               34660\n",
      "dateUpdated             34660\n",
      "name                     6760\n",
      "asins                       2\n",
      "brand                       0\n",
      "categories                  0\n",
      "primaryCategories       34660\n",
      "imageURLs               34660\n",
      "keys                        0\n",
      "manufacturer                0\n",
      "manufacturerNumber      34660\n",
      "reviews.date               39\n",
      "reviews.dateSeen            0\n",
      "reviews.didPurchase     67982\n",
      "reviews.doRecommend     12840\n",
      "reviews.id              67921\n",
      "reviews.numHelpful      12746\n",
      "reviews.rating             33\n",
      "reviews.sourceURLs          0\n",
      "reviews.text                1\n",
      "reviews.title              19\n",
      "reviews.username           13\n",
      "sourceURLs              34660\n",
      "reviews.dateAdded       42901\n",
      "reviews.userCity        67992\n",
      "reviews.userProvince    67992\n",
      "dtype: int64\n"
     ]
    },
    {
     "name": "stderr",
     "output_type": "stream",
     "text": [
      "C:\\Users\\diego\\AppData\\Local\\Temp\\ipykernel_10076\\3521483802.py:4: DtypeWarning: Columns (1,2,3,7,8,11,14,23) have mixed types. Specify dtype option on import or set low_memory=False.\n",
      "  data = pd.read_csv('combined_amazon_reviews.csv')\n"
     ]
    }
   ],
   "source": [
    "import pandas as pd\n",
    "\n",
    "# Load the dataset\n",
    "data = pd.read_csv('combined_amazon_reviews.csv')\n",
    "\n",
    "# Display the first few rows\n",
    "print(data.head())\n",
    "\n",
    "# Check for missing values\n",
    "print(data.isnull().sum())\n"
   ]
  },
  {
   "cell_type": "code",
   "execution_count": 6,
   "metadata": {},
   "outputs": [
    {
     "name": "stdout",
     "output_type": "stream",
     "text": [
      "Index(['id', 'dateAdded', 'dateUpdated', 'name', 'asins', 'brand',\n",
      "       'categories', 'primaryCategories', 'imageURLs', 'keys', 'manufacturer',\n",
      "       'manufacturerNumber', 'reviews.date', 'reviews.dateSeen',\n",
      "       'reviews.didPurchase', 'reviews.doRecommend', 'reviews.id',\n",
      "       'reviews.numHelpful', 'reviews.rating', 'reviews.sourceURLs',\n",
      "       'reviews.text', 'reviews.title', 'reviews.username', 'sourceURLs',\n",
      "       'reviews.dateAdded', 'reviews.userCity', 'reviews.userProvince'],\n",
      "      dtype='object')\n"
     ]
    }
   ],
   "source": [
    "print(data.columns)"
   ]
  },
  {
   "cell_type": "code",
   "execution_count": 19,
   "metadata": {},
   "outputs": [],
   "source": [
    "# Drop rows with missing values in relevant columns\n",
    "data.dropna(subset=['reviews.text'], inplace=True)\n",
    "\n",
    "# Clean review text if necessary (e.g., removing special characters)\n",
    "import re\n",
    "data['cleaned_review'] = data['reviews.text'].apply(lambda x: re.sub(r'[^a-zA-Z\\s]', '', x.lower()))\n"
   ]
  },
  {
   "cell_type": "code",
   "execution_count": null,
   "metadata": {},
   "outputs": [],
   "source": [
    "from transformers import DistilBertTokenizer, TFDistilBertForSequenceClassification\n",
    "import tensorflow as tf\n",
    "\n",
    "tokenizer = DistilBertTokenizer.from_pretrained('distilbert-base-uncased')\n",
    "model = TFDistilBertForSequenceClassification.from_pretrained('distilbert-base-uncased', num_labels=3)\n",
    "\n",
    "inputs = tokenizer(data['cleaned_review'].tolist(), return_tensors='tf', padding=True, truncation=True)\n",
    "labels = tf.convert_to_tensor(data['sentiment'].values)\n",
    "\n",
    "model.compile(optimizer=tf.keras.optimizers.Adam(), loss='sparse_categorical_crossentropy', metrics=['accuracy'])\n",
    "model.fit(inputs['input_ids'], labels, epochs=3)\n"
   ]
  },
  {
   "cell_type": "code",
   "execution_count": 9,
   "metadata": {},
   "outputs": [],
   "source": [
    "def sentiment_category(rating):\n",
    "    if rating >= 4:\n",
    "        return 'positive'\n",
    "    elif rating <= 2:\n",
    "        return 'negative'\n",
    "    else:\n",
    "        return 'neutral'\n",
    "\n",
    "data['sentiment'] = data['reviews.rating'].apply(sentiment_category)\n"
   ]
  },
  {
   "cell_type": "code",
   "execution_count": 10,
   "metadata": {},
   "outputs": [],
   "source": [
    "from sklearn.feature_extraction.text import TfidfVectorizer\n",
    "\n",
    "# Vectorize the text using TF-IDF\n",
    "vectorizer = TfidfVectorizer(max_features=5000)\n",
    "X = vectorizer.fit_transform(data['cleaned_review'])\n",
    "y = data['sentiment']\n"
   ]
  },
  {
   "cell_type": "code",
   "execution_count": 11,
   "metadata": {},
   "outputs": [
    {
     "name": "stdout",
     "output_type": "stream",
     "text": [
      "              precision    recall  f1-score   support\n",
      "\n",
      "    negative       0.75      0.47      0.58       482\n",
      "     neutral       0.59      0.11      0.18       603\n",
      "    positive       0.94      0.99      0.97     12514\n",
      "\n",
      "    accuracy                           0.94     13599\n",
      "   macro avg       0.76      0.52      0.58     13599\n",
      "weighted avg       0.92      0.94      0.92     13599\n",
      "\n"
     ]
    }
   ],
   "source": [
    "from sklearn.model_selection import train_test_split\n",
    "from sklearn.linear_model import LogisticRegression\n",
    "from sklearn.metrics import classification_report\n",
    "\n",
    "# Split data\n",
    "X_train, X_test, y_train, y_test = train_test_split(X, y, test_size=0.2, random_state=42)\n",
    "\n",
    "# Train Logistic Regression model\n",
    "model = LogisticRegression()\n",
    "model.fit(X_train, y_train)\n",
    "\n",
    "# Make predictions and evaluate\n",
    "y_pred = model.predict(X_test)\n",
    "print(classification_report(y_test, y_pred))\n"
   ]
  },
  {
   "cell_type": "code",
   "execution_count": 12,
   "metadata": {},
   "outputs": [
    {
     "name": "stdout",
     "output_type": "stream",
     "text": [
      "WARNING:tensorflow:From C:\\Users\\diego\\AppData\\Local\\Packages\\PythonSoftwareFoundation.Python.3.12_qbz5n2kfra8p0\\LocalCache\\local-packages\\Python312\\site-packages\\tf_keras\\src\\losses.py:2976: The name tf.losses.sparse_softmax_cross_entropy is deprecated. Please use tf.compat.v1.losses.sparse_softmax_cross_entropy instead.\n",
      "\n"
     ]
    },
    {
     "data": {
      "application/vnd.jupyter.widget-view+json": {
       "model_id": "73a002c222e648f3a1b24ffb90f04d67",
       "version_major": 2,
       "version_minor": 0
      },
      "text/plain": [
       "vocab.json:   0%|          | 0.00/899k [00:00<?, ?B/s]"
      ]
     },
     "metadata": {},
     "output_type": "display_data"
    },
    {
     "name": "stderr",
     "output_type": "stream",
     "text": [
      "C:\\Users\\diego\\AppData\\Local\\Packages\\PythonSoftwareFoundation.Python.3.12_qbz5n2kfra8p0\\LocalCache\\local-packages\\Python312\\site-packages\\huggingface_hub\\file_download.py:147: UserWarning: `huggingface_hub` cache-system uses symlinks by default to efficiently store duplicated files but your machine does not support them in C:\\Users\\diego\\.cache\\huggingface\\hub\\models--facebook--bart-large-cnn. Caching files will still work but in a degraded version that might require more space on your disk. This warning can be disabled by setting the `HF_HUB_DISABLE_SYMLINKS_WARNING` environment variable. For more details, see https://huggingface.co/docs/huggingface_hub/how-to-cache#limitations.\n",
      "To support symlinks on Windows, you either need to activate Developer Mode or to run Python as an administrator. In order to activate developer mode, see this article: https://docs.microsoft.com/en-us/windows/apps/get-started/enable-your-device-for-development\n",
      "  warnings.warn(message)\n"
     ]
    },
    {
     "data": {
      "application/vnd.jupyter.widget-view+json": {
       "model_id": "8d4250fb839a4e4cbc2ada8c7ca23618",
       "version_major": 2,
       "version_minor": 0
      },
      "text/plain": [
       "merges.txt:   0%|          | 0.00/456k [00:00<?, ?B/s]"
      ]
     },
     "metadata": {},
     "output_type": "display_data"
    },
    {
     "data": {
      "application/vnd.jupyter.widget-view+json": {
       "model_id": "f19d1596fa7f467199f72d9101d275bc",
       "version_major": 2,
       "version_minor": 0
      },
      "text/plain": [
       "tokenizer.json:   0%|          | 0.00/1.36M [00:00<?, ?B/s]"
      ]
     },
     "metadata": {},
     "output_type": "display_data"
    },
    {
     "data": {
      "application/vnd.jupyter.widget-view+json": {
       "model_id": "e4698cd7707d41ea89c51f68c1058213",
       "version_major": 2,
       "version_minor": 0
      },
      "text/plain": [
       "config.json:   0%|          | 0.00/1.58k [00:00<?, ?B/s]"
      ]
     },
     "metadata": {},
     "output_type": "display_data"
    },
    {
     "name": "stderr",
     "output_type": "stream",
     "text": [
      "C:\\Users\\diego\\AppData\\Local\\Packages\\PythonSoftwareFoundation.Python.3.12_qbz5n2kfra8p0\\LocalCache\\local-packages\\Python312\\site-packages\\transformers\\tokenization_utils_base.py:1617: FutureWarning: `clean_up_tokenization_spaces` was not set. It will be set to `True` by default. This behavior will be deprecated in transformers v4.45, and will be then set to `False` by default. For more details check this issue: https://github.com/huggingface/transformers/issues/31884\n",
      "  warnings.warn(\n"
     ]
    },
    {
     "data": {
      "application/vnd.jupyter.widget-view+json": {
       "model_id": "da291487fd7e4f4eb845f893e6ad9120",
       "version_major": 2,
       "version_minor": 0
      },
      "text/plain": [
       "model.safetensors:   0%|          | 0.00/1.63G [00:00<?, ?B/s]"
      ]
     },
     "metadata": {},
     "output_type": "display_data"
    },
    {
     "name": "stdout",
     "output_type": "stream",
     "text": [
      "WARNING:tensorflow:From C:\\Users\\diego\\AppData\\Local\\Packages\\PythonSoftwareFoundation.Python.3.12_qbz5n2kfra8p0\\LocalCache\\local-packages\\Python312\\site-packages\\tf_keras\\src\\backend.py:873: The name tf.get_default_graph is deprecated. Please use tf.compat.v1.get_default_graph instead.\n",
      "\n"
     ]
    },
    {
     "name": "stderr",
     "output_type": "stream",
     "text": [
      "All PyTorch model weights were used when initializing TFBartForConditionalGeneration.\n",
      "\n",
      "All the weights of TFBartForConditionalGeneration were initialized from the PyTorch model.\n",
      "If your task is similar to the task the model of the checkpoint was trained on, you can already use TFBartForConditionalGeneration for predictions without further training.\n"
     ]
    },
    {
     "name": "stdout",
     "output_type": "stream",
     "text": [
      "i order  of them and one of the item is bad quality is missing backup spring so i have to put a pcs of aluminum to make the battery work.\n"
     ]
    }
   ],
   "source": [
    "from transformers import BartTokenizer, TFBartForConditionalGeneration\n",
    "\n",
    "# Load summarization model\n",
    "tokenizer = BartTokenizer.from_pretrained('facebook/bart-large-cnn')\n",
    "model = TFBartForConditionalGeneration.from_pretrained('facebook/bart-large-cnn')\n",
    "\n",
    "# Tokenize and summarize a review\n",
    "inputs = tokenizer(data['cleaned_review'][0], return_tensors='tf', max_length=512, truncation=True)\n",
    "summary_ids = model.generate(inputs['input_ids'], max_length=150, min_length=30, length_penalty=2.0, num_beams=4, early_stopping=True)\n",
    "summary = tokenizer.decode(summary_ids[0], skip_special_tokens=True)\n",
    "print(summary)\n"
   ]
  },
  {
   "cell_type": "code",
   "execution_count": 13,
   "metadata": {},
   "outputs": [
    {
     "name": "stderr",
     "output_type": "stream",
     "text": [
      "[nltk_data] Downloading package stopwords to\n",
      "[nltk_data]     C:\\Users\\diego\\AppData\\Roaming\\nltk_data...\n",
      "[nltk_data]   Package stopwords is already up-to-date!\n"
     ]
    }
   ],
   "source": [
    "import nltk\n",
    "from sklearn.feature_extraction.text import TfidfVectorizer\n",
    "\n",
    "# Assuming your reviews are in 'cleaned_review'\n",
    "nltk.download('stopwords')\n",
    "stop_words = nltk.corpus.stopwords.words('english')\n",
    "\n",
    "vectorizer = TfidfVectorizer(stop_words=stop_words, max_features=5000)\n",
    "X = vectorizer.fit_transform(data['cleaned_review'])\n"
   ]
  },
  {
   "cell_type": "code",
   "execution_count": 14,
   "metadata": {},
   "outputs": [
    {
     "name": "stdout",
     "output_type": "stream",
     "text": [
      "Topic #0:\n",
      "easy use tablet kids love great old friendly bought loves\n",
      "Topic #1:\n",
      "kindle tablet great reading read easy love books screen use\n",
      "Topic #2:\n",
      "loves tablet bought old gift great year games daughter christmas\n",
      "Topic #3:\n",
      "batteries good great price work value long last product well\n",
      "Topic #4:\n",
      "echo alexa tv music amazon great love use fire sound\n",
      "Topic #5:\n",
      "one bought buy best great kindle would ok product tablet\n"
     ]
    }
   ],
   "source": [
    "from sklearn.decomposition import LatentDirichletAllocation\n",
    "\n",
    "# Specify the number of topics (meta-categories)\n",
    "n_topics = 6\n",
    "\n",
    "lda = LatentDirichletAllocation(n_components=n_topics, random_state=42)\n",
    "lda.fit(X)\n",
    "\n",
    "# Get the top words for each topic\n",
    "def print_top_words(model, feature_names, n_top_words):\n",
    "    for topic_idx, topic in enumerate(model.components_):\n",
    "        print(f\"Topic #{topic_idx}:\")\n",
    "        print(\" \".join([feature_names[i] for i in topic.argsort()[:-n_top_words - 1:-1]]))\n",
    "\n",
    "print_top_words(lda, vectorizer.get_feature_names_out(), 10)\n"
   ]
  },
  {
   "cell_type": "code",
   "execution_count": 15,
   "metadata": {},
   "outputs": [],
   "source": [
    "from sklearn.cluster import KMeans\n",
    "\n",
    "# Fit KMeans with the number of desired clusters (meta-categories)\n",
    "kmeans = KMeans(n_clusters=n_topics, random_state=42)\n",
    "kmeans.fit(X)\n",
    "\n",
    "# Assign each review to a cluster\n",
    "data['category'] = kmeans.labels_\n"
   ]
  }
 ],
 "metadata": {
  "kernelspec": {
   "display_name": "Python 3",
   "language": "python",
   "name": "python3"
  },
  "language_info": {
   "codemirror_mode": {
    "name": "ipython",
    "version": 3
   },
   "file_extension": ".py",
   "mimetype": "text/x-python",
   "name": "python",
   "nbconvert_exporter": "python",
   "pygments_lexer": "ipython3",
   "version": "3.12.7"
  }
 },
 "nbformat": 4,
 "nbformat_minor": 2
}
